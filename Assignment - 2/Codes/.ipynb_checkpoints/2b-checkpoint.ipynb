{
 "cells": [
  {
   "cell_type": "code",
   "execution_count": null,
   "id": "canadian-momentum",
   "metadata": {},
   "outputs": [],
   "source": [
    "import matplotlib.pyplot as plt\n",
    "import matplotlib.image as mpimg\n",
    "import cv2\n",
    "import math\n",
    "import numpy as np\n",
    "from sklearn.metrics.pairwise import cosine_similarity"
   ]
  },
  {
   "cell_type": "code",
   "execution_count": null,
   "id": "cubic-currency",
   "metadata": {},
   "outputs": [],
   "source": [
    "def rgb2gray(rgb):\n",
    "    return np.dot(rgb[...,:3], [0.299, 0.587, 0.144])\n",
    "\n",
    "def normalizedCrossCorrelation(p,q):\n",
    "    p,q = p[0], q[0]\n",
    "    sum, z1, z2 = 0, 0, 0\n",
    "    for i in range(len(p)):\n",
    "        sum += p[i] * q[i]\n",
    "        z1 += p[i] * p[i]\n",
    "        z2 += q[i] * q[i]\n",
    "    return sum / math.sqrt(z1*z2)"
   ]
  },
  {
   "cell_type": "code",
   "execution_count": null,
   "id": "demographic-percentage",
   "metadata": {
    "scrolled": false
   },
   "outputs": [],
   "source": [
    "imgRef = mpimg.imread('images/lena.png')\n",
    "imgRef = rgb2gray(imgRef)\n",
    "\n",
    "img = mpimg.imread('images/eye.png')\n",
    "img = rgb2gray(img)\n",
    "\n",
    "dim = img.shape\n",
    "\n",
    "print(imgRef.shape)\n",
    "print(\"before padding :\", len(img), len(img[0]))\n",
    "img = np.array(img)\n",
    "\n",
    "p, q = int(1.2*len(img)), int(1.2*len(img[0]))\n",
    "print(\"after padding :\", p,q)\n",
    "padded = np.zeros((p,q))\n",
    "ind = int(0.1*len(img))\n",
    "padded[ind:ind + img.shape[0], ind:ind + img.shape[1]] = img\n",
    "img = padded\n",
    "\n",
    "imgVector = [img[i,j] for j in range(len(img[0])) for i in range(len(img))]\n",
    "# print(imgVector)\n",
    "\n",
    "maxi, maxi1 = -1, -1\n",
    "ans = []\n",
    "for x in range(0, len(imgRef) - len(img), 2):\n",
    "    for y in range(0, len(imgRef[0]) - len(img[0]), 2):\n",
    "        # print(\"Reached check 2, bug after this\")\n",
    "        temp = imgRef[x:x+len(img), y:y+len(img[0])]\n",
    "        tempVector = [temp[i,j] for j in range(len(temp[0])) for i in range(len(temp))]\n",
    "        a = np.array(imgVector).reshape(1,len(imgVector))\n",
    "        a = a - np.mean(a)\n",
    "        b = np.array(tempVector).reshape(1,len(tempVector))\n",
    "        b = b - np.mean(b)\n",
    "        temp1,temp2 = a, b\n",
    "        mod1 = np.linalg.norm(a)\n",
    "        mod2 = np.linalg.norm(b)\n",
    "        a /= mod1\n",
    "        b /= mod2\n",
    "        out = normalizedCrossCorrelation(a,b) #user-defined\n",
    "        out1 = cosine_similarity(X=temp1, Y=temp2, dense_output=True) #built-in function\n",
    "        maxi1 = out1 if out1 > maxi1 else maxi1\n",
    "        if out > maxi:\n",
    "            maxi = out\n",
    "            ans =[]\n",
    "            ans.append(temp)\n",
    "            ans.append(img)\n",
    "            X,Y = x,y\n",
    "\n",
    "\n",
    "print(\"max_correlation (user-defined) :\", maxi)\n",
    "print(\"max_correlation (built-in) :\", maxi1)\n",
    "\n",
    "fig = plt.figure()\n",
    "a = fig.add_subplot(1,2,1)\n",
    "plt.imshow(ans[0],cmap=\"gray\")\n",
    "a.set_title(\"pattern found on the image\")\n",
    "\n",
    "a = fig.add_subplot(1,2,2)\n",
    "plt.imshow(ans[1],cmap=\"gray\")\n",
    "a.set_title(\"cropped template\")\n",
    "plt.show()\n",
    "\n",
    "\n",
    "imgRef = cv2.rectangle(imgRef, (Y, X), (Y + q, X + p), (255, 0, 0), 4)\n",
    "cv2.imshow(\"marked Image\", imgRef)\n",
    "cv2.waitKey(0)\n",
    "cv2.destroyAllWindows()"
   ]
  },
  {
   "cell_type": "code",
   "execution_count": null,
   "id": "possible-latest",
   "metadata": {},
   "outputs": [],
   "source": []
  }
 ],
 "metadata": {
  "kernelspec": {
   "display_name": "Python 3",
   "language": "python",
   "name": "python3"
  },
  "language_info": {
   "codemirror_mode": {
    "name": "ipython",
    "version": 3
   },
   "file_extension": ".py",
   "mimetype": "text/x-python",
   "name": "python",
   "nbconvert_exporter": "python",
   "pygments_lexer": "ipython3",
   "version": "3.8.5"
  }
 },
 "nbformat": 4,
 "nbformat_minor": 5
}
