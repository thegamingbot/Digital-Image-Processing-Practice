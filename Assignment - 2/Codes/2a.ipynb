{
 "cells": [
  {
   "cell_type": "code",
   "execution_count": 1,
   "id": "challenging-bulletin",
   "metadata": {},
   "outputs": [
    {
     "output_type": "error",
     "ename": "ModuleNotFoundError",
     "evalue": "No module named 'sklearn'",
     "traceback": [
      "\u001b[1;31m---------------------------------------------------------------------------\u001b[0m",
      "\u001b[1;31mModuleNotFoundError\u001b[0m                       Traceback (most recent call last)",
      "\u001b[1;32m<ipython-input-1-eac69a255958>\u001b[0m in \u001b[0;36m<module>\u001b[1;34m\u001b[0m\n\u001b[0;32m      4\u001b[0m \u001b[1;32mimport\u001b[0m \u001b[0mmath\u001b[0m\u001b[1;33m\u001b[0m\u001b[1;33m\u001b[0m\u001b[0m\n\u001b[0;32m      5\u001b[0m \u001b[1;32mimport\u001b[0m \u001b[0mnumpy\u001b[0m \u001b[1;32mas\u001b[0m \u001b[0mnp\u001b[0m\u001b[1;33m\u001b[0m\u001b[1;33m\u001b[0m\u001b[0m\n\u001b[1;32m----> 6\u001b[1;33m \u001b[1;32mfrom\u001b[0m \u001b[0msklearn\u001b[0m\u001b[1;33m.\u001b[0m\u001b[0mmetrics\u001b[0m\u001b[1;33m.\u001b[0m\u001b[0mpairwise\u001b[0m \u001b[1;32mimport\u001b[0m \u001b[0mcosine_similarity\u001b[0m\u001b[1;33m\u001b[0m\u001b[1;33m\u001b[0m\u001b[0m\n\u001b[0m\u001b[0;32m      7\u001b[0m \u001b[1;33m\u001b[0m\u001b[0m\n\u001b[0;32m      8\u001b[0m \u001b[1;32mdef\u001b[0m \u001b[0mrgb2gray\u001b[0m\u001b[1;33m(\u001b[0m\u001b[0mrgb\u001b[0m\u001b[1;33m)\u001b[0m\u001b[1;33m:\u001b[0m\u001b[1;33m\u001b[0m\u001b[1;33m\u001b[0m\u001b[0m\n",
      "\u001b[1;31mModuleNotFoundError\u001b[0m: No module named 'sklearn'"
     ]
    }
   ],
   "source": [
    "import matplotlib.pyplot as plt\n",
    "import matplotlib.image as mpimg\n",
    "import cv2\n",
    "import math\n",
    "import numpy as np\n",
    "from sklearn.metrics.pairwise import cosine_similarity\n",
    "\n",
    "def rgb2gray(rgb):\n",
    "    return np.dot(rgb[...,:3], [0.299, 0.587, 0.144])\n",
    "\n",
    "def crossCorrelation(p,q):\n",
    "    p,q = p[0], q[0]\n",
    "    sum = 0\n",
    "    for i in range(len(p)):\n",
    "        sum += p[i] * q[i]\n",
    "    return sum\n",
    "\n",
    "\n",
    "imgRef = mpimg.imread('images/hdraw.png')\n",
    "imgRef = rgb2gray(imgRef)\n",
    "# plt.imshow(imgRef,cmap=\"gray\")\n",
    "# plt.show()\n",
    "\n",
    "img = mpimg.imread('images/9.png')\n",
    "img = rgb2gray(img)\n",
    "# plt.imshow(img,cmap=\"gray\")\n",
    "# plt.show()\n",
    "dim = img.shape\n",
    "\n",
    "print(imgRef.shape)\n",
    "print(\"before padding :\", len(img), len(img[0]))\n",
    "img = np.array(img)\n",
    "\n",
    "p, q = int(1.2*len(img)), int(1.2*len(img[0]))\n",
    "print(\"after padding :\", p,q)\n",
    "padded = np.zeros((p,q))\n",
    "ind = int(0.1*len(img))\n",
    "padded[ind:ind + img.shape[0], ind:ind + img.shape[1]] = img\n",
    "img = padded\n",
    "\n",
    "imgVector = [img[i,j] for j in range(len(img[0])) for i in range(len(img))]\n",
    "# print(imgVector)\n",
    "\n",
    "maxi, maxi1 = -1, -1\n",
    "ans = []\n",
    "for x in range(0, len(imgRef) - len(img), 10):\n",
    "    for y in range(0, len(imgRef[0]) - len(img[0]), 5):\n",
    "        # print(\"hi\")\n",
    "        temp = imgRef[x:x+len(img), y:y+len(img[0])]\n",
    "        tempVector = [temp[i,j] for j in range(len(temp[0])) for i in range(len(temp))]\n",
    "        a = np.array(imgVector).reshape(1,len(imgVector))\n",
    "        a = a - np.mean(a)\n",
    "        b = np.array(tempVector).reshape(1,len(tempVector))\n",
    "        b = b - np.mean(b)\n",
    "        out = crossCorrelation(a,b) #user-defined\n",
    "        mod1 = np.linalg.norm(a)\n",
    "        mod2 = np.linalg.norm(b)\n",
    "        out1 = cosine_similarity(X=a, Y=b, dense_output=True) * (mod1 * mod2) #built-in function\n",
    "        maxi1 = out1 if out1 > maxi1 else maxi1\n",
    "        if out > maxi:\n",
    "            maxi = out\n",
    "            ans =[]\n",
    "            ans.append(temp)\n",
    "            ans.append(img)\n",
    "            X,Y = x,y\n",
    "\n",
    "print(\"max_correlation (user-defined) : \", maxi)\n",
    "print(\"max_correlation (built-in) : \", maxi1)\n",
    "\n",
    "fig = plt.figure()\n",
    "a = fig.add_subplot(1,2,1)\n",
    "plt.imshow(ans[0],cmap=\"gray\")\n",
    "a.set_title(\"pattern found on the image\")\n",
    "\n",
    "a = fig.add_subplot(1,2,2)\n",
    "plt.imshow(ans[1],cmap=\"gray\")\n",
    "a.set_title(\"cropped image\")\n",
    "plt.show()\n",
    "\n",
    "\n",
    "imgRef = cv2.rectangle(imgRef, (Y, X), (Y + q, X + p), (255, 0, 0), 4)\n",
    "cv2.imshow(\"marked Image\", imgRef)\n",
    "cv2.waitKey(0)\n",
    "cv2.destroyAllWindows()"
   ]
  },
  {
   "cell_type": "code",
   "execution_count": null,
   "id": "equipped-doctrine",
   "metadata": {},
   "outputs": [],
   "source": []
  }
 ],
 "metadata": {
  "kernelspec": {
   "name": "python392jvsc74a57bd0ac59ebe37160ed0dfa835113d9b8498d9f09ceb179beaac4002f036b9467c963",
   "display_name": "Python 3.9.2 64-bit"
  },
  "language_info": {
   "codemirror_mode": {
    "name": "ipython",
    "version": 3
   },
   "file_extension": ".py",
   "mimetype": "text/x-python",
   "name": "python",
   "nbconvert_exporter": "python",
   "pygments_lexer": "ipython3",
   "version": "3.9.2-final"
  },
  "metadata": {
   "interpreter": {
    "hash": "ac59ebe37160ed0dfa835113d9b8498d9f09ceb179beaac4002f036b9467c963"
   }
  }
 },
 "nbformat": 4,
 "nbformat_minor": 5
}